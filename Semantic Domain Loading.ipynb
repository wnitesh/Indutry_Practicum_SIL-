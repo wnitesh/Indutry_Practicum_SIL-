{
 "cells": [
  {
   "cell_type": "code",
   "execution_count": null,
   "metadata": {},
   "outputs": [],
   "source": [
    "import requests\n",
    "import json\n",
    "import pandas as pd\n",
    "import csv"
   ]
  },
  {
   "cell_type": "markdown",
   "metadata": {},
   "source": [
    "Connecting to GraphQL"
   ]
  },
  {
   "cell_type": "code",
   "execution_count": null,
   "metadata": {},
   "outputs": [],
   "source": [
    "from gql import Client, gql\n",
    "from gql.transport.requests import RequestsHTTPTransport\n",
    "\n",
    "dgraph_url = \"https://blue-surf-570083.us-east-1.aws.cloud.dgraph.io/graphql\" # this is your GraphQL Dgraph endpoint\n",
    "\n",
    "transport = RequestsHTTPTransport(\n",
    "    url=dgraph_url, verify=True, retries=3,\n",
    ")\n",
    "\n",
    "client = Client(transport=transport, fetch_schema_from_transport=True)"
   ]
  },
  {
   "cell_type": "code",
   "execution_count": null,
   "metadata": {
    "scrolled": true
   },
   "outputs": [],
   "source": [
    "df=pd.read_csv(\"data3.csv\")#Reading File and creating Multiple Copies\n",
    "df1= df\n",
    "df2= df\n",
    "df3=df\n",
    "df3"
   ]
  },
  {
   "cell_type": "code",
   "execution_count": null,
   "metadata": {},
   "outputs": [],
   "source": [
    "df3.columns #Displaying Columns name"
   ]
  },
  {
   "cell_type": "code",
   "execution_count": null,
   "metadata": {},
   "outputs": [],
   "source": [
    "##Dropping Columns and storing it in a dataframe isomap\n",
    "isomap=df3.drop(['english', 'category', 'cids', 'similar_word', 'probability', 'Mapping'],axis=1)"
   ]
  },
  {
   "cell_type": "code",
   "execution_count": null,
   "metadata": {},
   "outputs": [],
   "source": [
    "#Reading Column Names and storing it as Label\n",
    "label=isomap.columns\n",
    "label"
   ]
  },
  {
   "cell_type": "code",
   "execution_count": null,
   "metadata": {},
   "outputs": [],
   "source": [
    "#Separating the words in columns For Labels\n",
    "di={}\n",
    "\n",
    "for i in label:\n",
    "    d1=pd.DataFrame()\n",
    "    call1=[]\n",
    "    \n",
    "    try:\n",
    "        d1=(isomap[i].str.split('/',expand=True))\n",
    "        for z in range(len(d1.columns.to_list())):\n",
    "            call1.append(str(i)+','+str(z))\n",
    "        \n",
    "        d1.columns=call1\n",
    "        if len(ss)==0:\n",
    "            ss=d1\n",
    "        else:\n",
    "            ss=pd.merge(d1,ss,how='inner',left_index=True,right_index=True)\n",
    "    except:\n",
    "        continue\n",
    "\n"
   ]
  },
  {
   "cell_type": "code",
   "execution_count": null,
   "metadata": {},
   "outputs": [],
   "source": [
    "#Extracting ISO639 Code from File\n",
    "isom=ss\n",
    "lab=isom.columns\n",
    "da=[]\n",
    "for i in lab:\n",
    "    c=i.split(',')[0]\n",
    "    if c not in da:\n",
    "        da.append(c)"
   ]
  },
  {
   "cell_type": "code",
   "execution_count": null,
   "metadata": {},
   "outputs": [],
   "source": [
    "#Reading ISO639 and Language extracted from SIL Website and Joining to get Language with respect to IS0639\n",
    "code= pd.read_csv('iso-639-3.tab', encoding='utf8',sep='\\t')\n",
    "mp=code.drop(['Part1','Part2B','Part2T','Scope','Language_Type','Comment'],axis=1)\n",
    "da=pd.DataFrame(da)\n",
    "da.columns=['Id']\n",
    "daa=pd.merge(da,mp,on='Id')\n",
    "daa"
   ]
  },
  {
   "cell_type": "code",
   "execution_count": null,
   "metadata": {},
   "outputs": [],
   "source": [
    "#Separating the words in columns For Semantic Domian Loading\n",
    "ess=pd.DataFrame()\n",
    "di={}\n",
    "\n",
    "for i in label:\n",
    "    d1=pd.DataFrame()\n",
    "    call1=[]\n",
    "    try:\n",
    "        d1=(df3[i].str.split('/',expand=True))\n",
    "        for z in range(len(d1.columns.to_list())):\n",
    "            call1.append(str(i)+','+str(z))\n",
    "        \n",
    "        d1.columns=call1\n",
    "        if len(ess)==0:\n",
    "            ess=d1\n",
    "        else:\n",
    "            ess=pd.merge(d1,ess,how='inner',left_index=True,right_index=True)\n",
    "    except:\n",
    "        continue"
   ]
  },
  {
   "cell_type": "code",
   "execution_count": null,
   "metadata": {},
   "outputs": [],
   "source": [
    "#Adding columns from df2 dataframe to ess for final loading process\n",
    "ess['cids']=df3['cids']\n",
    "ess['eng']=df3['english']\n",
    "ess['category']=df3['category']\n",
    "ess['Mapping']=df3['Mapping']\n",
    "ess['similar_word']=df3['similar_word']\n"
   ]
  },
  {
   "cell_type": "markdown",
   "metadata": {},
   "source": [
    "Defining Function to mutate Semantic Domain to GraphQL"
   ]
  },
  {
   "cell_type": "code",
   "execution_count": null,
   "metadata": {},
   "outputs": [],
   "source": [
    "def test_mutation_result2(client,params):\n",
    "    query = gql(\n",
    "        \"\"\"\n",
    "mutation Mutation($input: [AddSemanticDomainInput!]!) {\n",
    "  addSemanticDomain(input: $input, upsert: true) {\n",
    "    semanticDomain {\n",
    "      cids\n",
    "      name\n",
    "      label\n",
    "      words {\n",
    "        text\n",
    "        isoLanguage {\n",
    "          iso639\n",
    "        }\n",
    "      }\n",
    "    }\n",
    "  }\n",
    "}\n",
    "\n",
    "\n",
    "        \"\"\"\n",
    "    )\n",
    "    result = client.execute(query, variable_values=params)"
   ]
  },
  {
   "cell_type": "code",
   "execution_count": null,
   "metadata": {},
   "outputs": [],
   "source": [
    "#Loading the data into GraphQL by calling function test_mutation_result2\n",
    "i=0\n",
    "while i<=len(df3):\n",
    "    for k in ss:\n",
    "        sso=k.split(',')[0]\n",
    "        try:\n",
    "            params={\"input\":{\"cids\":ess.loc[i,\"cids\"], \"name\":ess.loc[i,\"category\"],\"label\":ess.loc[i,\"Mapping\"],\"words\":{\"text\":ess.loc[i,k],\"isoLanguage\":{\"iso639\":sso}}}}\n",
    "            test_mutation_result2(client,params)\n",
    "        except:\n",
    "            continue\n",
    "\n",
    "    i=i+1"
   ]
  },
  {
   "cell_type": "code",
   "execution_count": null,
   "metadata": {},
   "outputs": [],
   "source": []
  }
 ],
 "metadata": {
  "kernelspec": {
   "display_name": "Python 3",
   "language": "python",
   "name": "python3"
  },
  "language_info": {
   "codemirror_mode": {
    "name": "ipython",
    "version": 3
   },
   "file_extension": ".py",
   "mimetype": "text/x-python",
   "name": "python",
   "nbconvert_exporter": "python",
   "pygments_lexer": "ipython3",
   "version": "3.8.3"
  }
 },
 "nbformat": 4,
 "nbformat_minor": 4
}
